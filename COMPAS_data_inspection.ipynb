{
  "nbformat": 4,
  "nbformat_minor": 0,
  "metadata": {
    "colab": {
      "provenance": [],
      "authorship_tag": "ABX9TyMWQh9sZc4ZHK6UKXAJcdaP",
      "include_colab_link": true
    },
    "kernelspec": {
      "name": "python3",
      "display_name": "Python 3"
    },
    "language_info": {
      "name": "python"
    }
  },
  "cells": [
    {
      "cell_type": "markdown",
      "metadata": {
        "id": "view-in-github",
        "colab_type": "text"
      },
      "source": [
        "<a href=\"https://colab.research.google.com/github/MDankloff/ScriptAIRbnb.R/blob/main/COMPAS_data_inspection.ipynb\" target=\"_parent\"><img src=\"https://colab.research.google.com/assets/colab-badge.svg\" alt=\"Open In Colab\"/></a>"
      ]
    },
    {
      "cell_type": "code",
      "execution_count": 51,
      "source": [
        "import numpy as np\n",
        "import pandas as pd\n",
        "import matplotlib.pyplot as plt\n",
        "import seaborn as sns\n",
        "from sklearn.metrics import accuracy_score, confusion_matrix, roc_auc_score, roc_curve\n",
        "from sklearn.model_selection import train_test_split\n",
        "from sklearn.ensemble import RandomForestClassifier\n",
        "import warnings\n",
        "warnings.filterwarnings(\"ignore\")\n",
        "import os\n",
        "\n",
        "# Specify the directory path\n",
        "directory_path = '//Users/mirthedankloff/Documents/XAI_Bias_Error/COMPAS'\n",
        "\n",
        "# Traverse the directory and print the names of all files\n",
        "for dirname, _, filenames in os.walk(directory_path):\n",
        "    for filename in filenames:\n",
        "        print(os.path.join(dirname, filename))\n"
      ],
      "outputs": [],
      "metadata": {
        "id": "38DKEHMzpE5N"
      }
    },
    {
      "cell_type": "markdown",
      "source": [
        "LOAD COMPAS data"
      ],
      "metadata": {
        "id": "UzPRoaiBYtI5"
      }
    },
    {
      "cell_type": "code",
      "source": [
        "compas_s = pd.read_csv(\"/content/final_preprocessed_compas(2).csv\")\n",
        "ofercompas = pd.read_csv(\"/content/propublica_data_for_fairml.csv\")\n",
        "originalcompas = pd.read_csv(\"/content/compas-scores-two-years-violent.csv\")"
      ],
      "metadata": {
        "id": "31swZk8rY49a"
      },
      "execution_count": 28,
      "outputs": []
    },
    {
      "cell_type": "code",
      "source": [
        "target = \"Two_yr_Recidivism\"\n",
        "X = ofercompas.drop([target],axis=1)\n",
        "Y = ofercompas[target]"
      ],
      "metadata": {
        "id": "lvcGzd45bCok"
      },
      "execution_count": 29,
      "outputs": []
    },
    {
      "cell_type": "markdown",
      "source": [
        "TRAIN  Model"
      ],
      "metadata": {
        "id": "LtLNwji9c59E"
      }
    },
    {
      "cell_type": "code",
      "source": [
        "X_train, X_test, Y_train, Y_test = train_test_split(X, Y, test_size = 0.3, shuffle = True, stratify = Y)\n",
        "\n",
        "model = RandomForestClassifier()\n",
        "model.fit(X_train, Y_train)\n",
        "\n",
        "#predictions\n",
        "Yhat = model.predict(X_test)\n",
        "len(Yhat)\n"
      ],
      "metadata": {
        "colab": {
          "base_uri": "https://localhost:8080/"
        },
        "id": "5XNgT6Hcc5dL",
        "outputId": "3af3b13b-742b-44b9-cbab-b6ec9d95f3b3"
      },
      "execution_count": 41,
      "outputs": [
        {
          "output_type": "execute_result",
          "data": {
            "text/plain": [
              "1852"
            ]
          },
          "metadata": {},
          "execution_count": 41
        }
      ]
    },
    {
      "cell_type": "markdown",
      "source": [
        "COLLECT the errors"
      ],
      "metadata": {
        "id": "yfpE0rTSd96H"
      }
    },
    {
      "cell_type": "code",
      "source": [
        "predictions = pd.DataFrame()\n",
        "predictions['predicted class'] = Yhat.tolist()\n",
        "predictions = predictions.set_index(X_test.index)\n",
        "predictions['true class'] = Y_test\n",
        "\n",
        "#accuracy\n",
        "accuracy = accuracy_score(predictions['true class'], predictions['predicted class'])\n",
        "print(f\"Accuracy: {accuracy:.4f}\")\n",
        "\n",
        "#confusion matrix\n",
        "cm = confusion_matrix(predictions['true class'], predictions['predicted class'])\n",
        "print(cm)\n"
      ],
      "metadata": {
        "colab": {
          "base_uri": "https://localhost:8080/"
        },
        "id": "r5ex544tgsZm",
        "outputId": "52e39661-a658-4cf9-8e0e-f2d9236c1761"
      },
      "execution_count": 57,
      "outputs": [
        {
          "output_type": "stream",
          "name": "stdout",
          "text": [
            "Accuracy: 0.6566\n",
            "[[726 283]\n",
            " [353 490]]\n"
          ]
        }
      ]
    },
    {
      "cell_type": "markdown",
      "source": [
        "Selecting 4 labels (FP, FN, TP, TN)"
      ],
      "metadata": {
        "id": "0VD7Jrf5ahLK"
      }
    },
    {
      "cell_type": "code",
      "source": [
        "TP = cm[1,1]\n",
        "FP = cm[0,1]\n",
        "FN = cm[1,0]\n",
        "TN = cm[0,0]\n",
        "\n",
        "predictions['True Positives'] = TP\n",
        "predictions['False Positives'] = FP\n",
        "predictions['False Negatives'] = FN\n",
        "predictions['True Negatives'] = TN"
      ],
      "metadata": {
        "id": "dej_TSFCaoc9"
      },
      "execution_count": 58,
      "outputs": []
    },
    {
      "cell_type": "markdown",
      "source": [
        "Scatterplot 4 labels (FP, FN, TP, TN)"
      ],
      "metadata": {
        "id": "O0W-m_Rsao6u"
      }
    },
    {
      "cell_type": "code",
      "source": [],
      "metadata": {
        "id": "fD8xGgKMZdJd"
      },
      "execution_count": null,
      "outputs": []
    },
    {
      "cell_type": "markdown",
      "source": [
        "PCA 4 labels (FP, FN, TP, TN)"
      ],
      "metadata": {
        "id": "qfRDaRpfausR"
      }
    }
  ]
}